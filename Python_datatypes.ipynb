{
  "nbformat": 4,
  "nbformat_minor": 0,
  "metadata": {
    "colab": {
      "provenance": [],
      "authorship_tag": "ABX9TyOXH4GYidpBodYNu7s4umDO",
      "include_colab_link": true
    },
    "kernelspec": {
      "name": "python3",
      "display_name": "Python 3"
    },
    "language_info": {
      "name": "python"
    }
  },
  "cells": [
    {
      "cell_type": "markdown",
      "metadata": {
        "id": "view-in-github",
        "colab_type": "text"
      },
      "source": [
        "<a href=\"https://colab.research.google.com/github/just-suraj-j/Python_Basics/blob/main/Python_datatypes.ipynb\" target=\"_parent\"><img src=\"https://colab.research.google.com/assets/colab-badge.svg\" alt=\"Open In Colab\"/></a>"
      ]
    },
    {
      "cell_type": "markdown",
      "source": [
        "### **How do you create an empty list in Python?**\n",
        "To create an empty list in Python, you can use the square brackets notation with no elements inside"
      ],
      "metadata": {
        "id": "31-9qO66ouGf"
      }
    },
    {
      "cell_type": "code",
      "execution_count": 11,
      "metadata": {
        "id": "xLuFFVw_oP70"
      },
      "outputs": [],
      "source": [
        "mylist=[]"
      ]
    },
    {
      "cell_type": "markdown",
      "source": [
        "### **How do you add an element to a list in Python?**\n",
        "\n",
        "To add an element to a list in Python, you can use the append() method, which adds the element to the end of the list:"
      ],
      "metadata": {
        "id": "s2rTycCqpC4F"
      }
    },
    {
      "cell_type": "code",
      "source": [
        "mylist.append('a')\n",
        "print(mylist)"
      ],
      "metadata": {
        "colab": {
          "base_uri": "https://localhost:8080/"
        },
        "id": "aTmPQDYxpLz1",
        "outputId": "a05ac5b0-b3b1-4194-803c-af3e661b1745"
      },
      "execution_count": 12,
      "outputs": [
        {
          "output_type": "stream",
          "name": "stdout",
          "text": [
            "['a']\n"
          ]
        }
      ]
    },
    {
      "cell_type": "markdown",
      "source": [
        "You can also add an element at a specific index using the insert() method:"
      ],
      "metadata": {
        "id": "NbEV5j6rpT5A"
      }
    },
    {
      "cell_type": "code",
      "source": [
        "mylist.insert(2,'b')\n",
        "print(mylist)"
      ],
      "metadata": {
        "colab": {
          "base_uri": "https://localhost:8080/"
        },
        "id": "WIttDkwspTkC",
        "outputId": "132b2091-d1bc-4203-ed5d-d15b152697b0"
      },
      "execution_count": 13,
      "outputs": [
        {
          "output_type": "stream",
          "name": "stdout",
          "text": [
            "['a', 'b']\n"
          ]
        }
      ]
    },
    {
      "cell_type": "markdown",
      "source": [
        "###**How do you remove an element from a list in Python?**\n",
        "\n",
        "To remove an element from a list in Python, you can use the remove() method and pass in the element you want to remove:"
      ],
      "metadata": {
        "id": "p6BM6I21pttZ"
      }
    },
    {
      "cell_type": "code",
      "source": [
        "mylist.remove('a')\n",
        "print(mylist)"
      ],
      "metadata": {
        "colab": {
          "base_uri": "https://localhost:8080/"
        },
        "id": "Zqt7fYvvqDmI",
        "outputId": "ec8c2652-4847-4fde-e068-c06a97885674"
      },
      "execution_count": 14,
      "outputs": [
        {
          "output_type": "stream",
          "name": "stdout",
          "text": [
            "['b']\n"
          ]
        }
      ]
    },
    {
      "cell_type": "markdown",
      "source": [
        "If you want to remove an element at a specific index, you can use the pop() method and pass in the index:"
      ],
      "metadata": {
        "id": "-4IhxQoDqTT9"
      }
    },
    {
      "cell_type": "code",
      "source": [
        "mylist.pop(0)\n",
        "print(mylist)"
      ],
      "metadata": {
        "colab": {
          "base_uri": "https://localhost:8080/"
        },
        "id": "d_rSePwGqWyw",
        "outputId": "d9c40814-2fdd-4d7e-b241-f20067ea7bb1"
      },
      "execution_count": 15,
      "outputs": [
        {
          "output_type": "stream",
          "name": "stdout",
          "text": [
            "[]\n"
          ]
        }
      ]
    },
    {
      "cell_type": "markdown",
      "source": [
        "### **How do you check if an element is in a list in Python?**\n",
        "\n",
        "To check if an element is in a list in Python, you can use the in keyword:"
      ],
      "metadata": {
        "id": "rDctw3xEql4a"
      }
    },
    {
      "cell_type": "code",
      "source": [
        "mylist.append('a')\n",
        "if ('a' in mylist):\n",
        "  print(mylist)"
      ],
      "metadata": {
        "colab": {
          "base_uri": "https://localhost:8080/"
        },
        "id": "ofvSZ4SoqlXf",
        "outputId": "32cc4304-bf56-48e7-bb6b-b24cf17ecf87"
      },
      "execution_count": 16,
      "outputs": [
        {
          "output_type": "stream",
          "name": "stdout",
          "text": [
            "['a']\n"
          ]
        }
      ]
    },
    {
      "cell_type": "markdown",
      "source": [
        "### **How do you sort a list in Python?**\n",
        "\n",
        "To sort a list in Python, you can use the sort() method:"
      ],
      "metadata": {
        "id": "o6Bc0e1lrDG0"
      }
    },
    {
      "cell_type": "code",
      "source": [
        "mylist.append('d')\n",
        "mylist.append('b')\n",
        "mylist.sort()\n",
        "print(mylist)"
      ],
      "metadata": {
        "colab": {
          "base_uri": "https://localhost:8080/"
        },
        "id": "OWd3r8xprZpZ",
        "outputId": "272d96bb-dcd0-4cda-a27a-52f2db5592d5"
      },
      "execution_count": 19,
      "outputs": [
        {
          "output_type": "stream",
          "name": "stdout",
          "text": [
            "['a', 'b', 'b', 'b', 'd', 'd', 'd']\n"
          ]
        }
      ]
    },
    {
      "cell_type": "markdown",
      "source": [
        "## **How do you sort the list in reverse order in Python?**\n",
        "\n",
        "If you want to sort the list in reverse order, you can pass in the reverse=True parameter:"
      ],
      "metadata": {
        "id": "LDyndTBir-61"
      }
    },
    {
      "cell_type": "code",
      "source": [
        "mylist.sort(reverse=True)\n",
        "print(mylist)\n"
      ],
      "metadata": {
        "colab": {
          "base_uri": "https://localhost:8080/"
        },
        "id": "uuWDJZYssGMk",
        "outputId": "10c4a9bd-a9f3-4ab3-dee0-d1f2b60da192"
      },
      "execution_count": 23,
      "outputs": [
        {
          "output_type": "stream",
          "name": "stdout",
          "text": [
            "['d', 'd', 'd', 'b', 'b', 'b', 'a']\n"
          ]
        }
      ]
    },
    {
      "cell_type": "markdown",
      "source": [
        "### **How do you reverse a list in Python?**\n",
        "To reverse a list in Python, you can use the reverse() method:"
      ],
      "metadata": {
        "id": "14g3eNKqskpi"
      }
    },
    {
      "cell_type": "code",
      "source": [
        "mylist.reverse()\n",
        "print(mylist)"
      ],
      "metadata": {
        "colab": {
          "base_uri": "https://localhost:8080/"
        },
        "id": "fxH5pShIsxHg",
        "outputId": "c3c0a3cb-d23b-4ce6-c7a6-5d3d3fc163cc"
      },
      "execution_count": 24,
      "outputs": [
        {
          "output_type": "stream",
          "name": "stdout",
          "text": [
            "['a', 'b', 'b', 'b', 'd', 'd', 'd']\n"
          ]
        }
      ]
    },
    {
      "cell_type": "markdown",
      "source": [
        "### **How do you find the length of a list in Python?**\n",
        "\n",
        "To find the length of a list in Python, you can use the len() function:"
      ],
      "metadata": {
        "id": "hiYu3HDVs3vP"
      }
    },
    {
      "cell_type": "code",
      "source": [
        "len(mylist)\n"
      ],
      "metadata": {
        "colab": {
          "base_uri": "https://localhost:8080/"
        },
        "id": "JCBsm0lHtC9S",
        "outputId": "ff2164d6-b61a-4ade-d138-817b29aa3421"
      },
      "execution_count": 25,
      "outputs": [
        {
          "output_type": "execute_result",
          "data": {
            "text/plain": [
              "7"
            ]
          },
          "metadata": {},
          "execution_count": 25
        }
      ]
    },
    {
      "cell_type": "markdown",
      "source": [
        "### **How do you access a specific element in a list in Python?**\n",
        "To access a specific element in a list in Python, you can use square brackets notation with the index of the element you want to access:"
      ],
      "metadata": {
        "id": "6hN5Y1wCtL1_"
      }
    },
    {
      "cell_type": "code",
      "source": [
        "mylist[4]"
      ],
      "metadata": {
        "colab": {
          "base_uri": "https://localhost:8080/",
          "height": 35
        },
        "id": "X_xoj2KQtYWu",
        "outputId": "12c56359-8b49-4a5d-a4af-165f82226ea6"
      },
      "execution_count": 26,
      "outputs": [
        {
          "output_type": "execute_result",
          "data": {
            "text/plain": [
              "'d'"
            ],
            "application/vnd.google.colaboratory.intrinsic+json": {
              "type": "string"
            }
          },
          "metadata": {},
          "execution_count": 26
        }
      ]
    },
    {
      "cell_type": "markdown",
      "source": [
        "### **How do you loop through a list in Python?**\n",
        "\n",
        "To loop through a list in Python, you can use a for loop and iterate over the list:"
      ],
      "metadata": {
        "id": "TlnRB_1wtfFp"
      }
    },
    {
      "cell_type": "code",
      "source": [
        "for i in mylist:\n",
        "  print(i)"
      ],
      "metadata": {
        "colab": {
          "base_uri": "https://localhost:8080/"
        },
        "id": "DvNykfQ2tua3",
        "outputId": "fa1e63e4-5f44-4b36-abaa-5c9b84c6b448"
      },
      "execution_count": 27,
      "outputs": [
        {
          "output_type": "stream",
          "name": "stdout",
          "text": [
            "a\n",
            "b\n",
            "b\n",
            "b\n",
            "d\n",
            "d\n",
            "d\n"
          ]
        }
      ]
    },
    {
      "cell_type": "markdown",
      "source": [
        "###  **How do you concatenate two lists in Python?**\n",
        "\n",
        "To concatenate two lists in Python, you can use the + operator:"
      ],
      "metadata": {
        "id": "ffdX-4pat0rL"
      }
    },
    {
      "cell_type": "code",
      "source": [
        "mylist2=mylist+mylist\n",
        "print(mylist2)"
      ],
      "metadata": {
        "colab": {
          "base_uri": "https://localhost:8080/"
        },
        "id": "Q6Y4R505uA6E",
        "outputId": "2680a500-52cc-4789-f1d0-ffc8289c932d"
      },
      "execution_count": 28,
      "outputs": [
        {
          "output_type": "stream",
          "name": "stdout",
          "text": [
            "['a', 'b', 'b', 'b', 'd', 'd', 'd', 'a', 'b', 'b', 'b', 'd', 'd', 'd']\n"
          ]
        }
      ]
    },
    {
      "cell_type": "markdown",
      "source": [
        "Alternatively, you can use the extend() method to add the elements of one list to the end of another:"
      ],
      "metadata": {
        "id": "2k54qmzeuOmA"
      }
    },
    {
      "cell_type": "code",
      "source": [
        "mylist2.extend(mylist)\n",
        "print(mylist2)"
      ],
      "metadata": {
        "colab": {
          "base_uri": "https://localhost:8080/"
        },
        "id": "qQzygGANuP57",
        "outputId": "6ee49396-a4fd-4225-8eea-b68a276638d6"
      },
      "execution_count": 29,
      "outputs": [
        {
          "output_type": "stream",
          "name": "stdout",
          "text": [
            "['a', 'b', 'b', 'b', 'd', 'd', 'd', 'a', 'b', 'b', 'b', 'd', 'd', 'd', 'a', 'b', 'b', 'b', 'd', 'd', 'd']\n"
          ]
        }
      ]
    }
  ]
}