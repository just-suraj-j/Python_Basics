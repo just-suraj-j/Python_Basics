{
  "nbformat": 4,
  "nbformat_minor": 0,
  "metadata": {
    "colab": {
      "provenance": [],
      "authorship_tag": "ABX9TyOSq2F4WhFaCyqAfTsrbUqR",
      "include_colab_link": true
    },
    "kernelspec": {
      "name": "python3",
      "display_name": "Python 3"
    },
    "language_info": {
      "name": "python"
    }
  },
  "cells": [
    {
      "cell_type": "markdown",
      "metadata": {
        "id": "view-in-github",
        "colab_type": "text"
      },
      "source": [
        "<a href=\"https://colab.research.google.com/github/just-suraj-j/Python_Basics/blob/main/Python_Tutorials01.ipynb\" target=\"_parent\"><img src=\"https://colab.research.google.com/assets/colab-badge.svg\" alt=\"Open In Colab\"/></a>"
      ]
    },
    {
      "cell_type": "markdown",
      "source": [
        "**Introduction**\n",
        "\n",
        "High level, interpreted programming language which is object oriented.<br>\n",
        "Open source, extensible, embeddable and portable.\n",
        "\n",
        "**Features**<br>\n",
        "Object Oriented<br>\n",
        "Dynamically typed<br>\n",
        "Easy to learn<br>\n",
        "Interpreted\n",
        "\n",
        "**Coding in python**<br>\n",
        "Immediate mode (python shell)<br>\n",
        "Script mode(notepad + command prompt)<br>\n",
        "IDE(Jupyter lab, Jupyter Notebook, spyder)"
      ],
      "metadata": {
        "id": "D6Sog8IGhsKX"
      }
    },
    {
      "cell_type": "markdown",
      "source": [
        "**Keywords**\n",
        "\n",
        "Reserved words <br>\n",
        "cannot be used as variable name, function name and identifiers<br>\n",
        "Case sensitive\n",
        "\n",
        "**Identifiers**\n",
        "\n",
        "names given to enities such as class, function and variables<br>\n",
        "lowercase a-z<br>\n",
        "uppercase A-Z<br>\n",
        "digits 0-9 <br>\n",
        "underscore _ <br>\n",
        "\n",
        "**Constraints for identifiers**\n",
        "cannot start with digits <br>\n",
        "no keywords<br>\n",
        "no special characters or symbols"
      ],
      "metadata": {
        "id": "sJOhAv0_lKxv"
      }
    },
    {
      "cell_type": "markdown",
      "source": [
        "![image.png](data:image/png;base64,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)"
      ],
      "metadata": {
        "id": "G52rCbeBlB3e"
      }
    },
    {
      "cell_type": "code",
      "source": [
        "#1 False\n",
        "print(2==5)\n",
        "\n"
      ],
      "metadata": {
        "colab": {
          "base_uri": "https://localhost:8080/"
        },
        "id": "F87fdHToml3V",
        "outputId": "ab10816e-cacb-4dbe-c327-bc17bad94aa5"
      },
      "execution_count": 1,
      "outputs": [
        {
          "output_type": "stream",
          "name": "stdout",
          "text": [
            "False\n"
          ]
        }
      ]
    },
    {
      "cell_type": "code",
      "source": [
        "#2 True\n",
        "print(2<5)"
      ],
      "metadata": {
        "colab": {
          "base_uri": "https://localhost:8080/"
        },
        "id": "w6QIlphOm4mI",
        "outputId": "72a3919c-1e3c-43f3-a931-3d6eab9f5119"
      },
      "execution_count": 2,
      "outputs": [
        {
          "output_type": "stream",
          "name": "stdout",
          "text": [
            "True\n"
          ]
        }
      ]
    },
    {
      "cell_type": "code",
      "source": [
        "#3 None\n",
        "print(None==None)\n",
        "print(None==0)\n",
        "print(None==[])\n",
        "print(None==\"\")\n",
        "print(None==False)"
      ],
      "metadata": {
        "colab": {
          "base_uri": "https://localhost:8080/"
        },
        "id": "B8PWcqdfnG3J",
        "outputId": "aa285cf9-b108-47fe-97f2-349b8ef2bd59"
      },
      "execution_count": 4,
      "outputs": [
        {
          "output_type": "stream",
          "name": "stdout",
          "text": [
            "True\n",
            "False\n",
            "False\n",
            "False\n",
            "False\n"
          ]
        }
      ]
    },
    {
      "cell_type": "code",
      "source": [
        "#3 def\n",
        "def a_void_func():\n",
        "  a=1\n",
        "  b=1\n",
        "  c=a+b\n",
        "\n",
        "x=a_void_func()\n",
        "print(x)"
      ],
      "metadata": {
        "colab": {
          "base_uri": "https://localhost:8080/"
        },
        "id": "GX7wpmucnuBD",
        "outputId": "8a67f8e5-9de8-4f4a-96a7-e03bc542b4e5"
      },
      "execution_count": 8,
      "outputs": [
        {
          "output_type": "stream",
          "name": "stdout",
          "text": [
            "None\n"
          ]
        }
      ]
    },
    {
      "cell_type": "code",
      "source": [
        "#4 return\n",
        "def my_func():\n",
        "  a=1\n",
        "  b=2\n",
        "  c=a+b\n",
        "  return c\n",
        "\n",
        "x=my_func()\n",
        "print(x)"
      ],
      "metadata": {
        "colab": {
          "base_uri": "https://localhost:8080/"
        },
        "id": "6UbRFySYoOkJ",
        "outputId": "1d585faf-bea5-4e76-b1af-7d84e3df54da"
      },
      "execution_count": 9,
      "outputs": [
        {
          "output_type": "stream",
          "name": "stdout",
          "text": [
            "3\n"
          ]
        }
      ]
    },
    {
      "cell_type": "code",
      "source": [
        "#5,6,7 and, or, not\n",
        "print(True and False)\n",
        "print(True or False)\n",
        "print(not False)"
      ],
      "metadata": {
        "colab": {
          "base_uri": "https://localhost:8080/"
        },
        "id": "hQg-G5Tcoq_f",
        "outputId": "5bf490f1-cb7c-494e-bad1-5994aedf9830"
      },
      "execution_count": 10,
      "outputs": [
        {
          "output_type": "stream",
          "name": "stdout",
          "text": [
            "False\n",
            "True\n",
            "True\n"
          ]
        }
      ]
    },
    {
      "cell_type": "code",
      "source": [
        "#8,9 import as\n",
        "import math as my_math\n"
      ],
      "metadata": {
        "id": "hsTivUEhpH2f"
      },
      "execution_count": 11,
      "outputs": []
    },
    {
      "cell_type": "code",
      "source": [
        "print(my_math.cos(my_math.pi))"
      ],
      "metadata": {
        "colab": {
          "base_uri": "https://localhost:8080/"
        },
        "id": "HYSlzNS6pad9",
        "outputId": "fa2e8d63-6071-4512-be3d-3c8568f061d4"
      },
      "execution_count": 12,
      "outputs": [
        {
          "output_type": "stream",
          "name": "stdout",
          "text": [
            "-1.0\n"
          ]
        }
      ]
    },
    {
      "cell_type": "code",
      "source": [
        "#10 assert\n",
        "assert 5>10"
      ],
      "metadata": {
        "colab": {
          "base_uri": "https://localhost:8080/",
          "height": 185
        },
        "id": "klNNCI6XpwTK",
        "outputId": "88500499-a295-4609-bbb1-a4e6448aaf68"
      },
      "execution_count": 14,
      "outputs": [
        {
          "output_type": "error",
          "ename": "AssertionError",
          "evalue": "ignored",
          "traceback": [
            "\u001b[0;31m---------------------------------------------------------------------------\u001b[0m",
            "\u001b[0;31mAssertionError\u001b[0m                            Traceback (most recent call last)",
            "\u001b[0;32m<ipython-input-14-d7601962b982>\u001b[0m in \u001b[0;36m<module>\u001b[0;34m\u001b[0m\n\u001b[1;32m      1\u001b[0m \u001b[0;31m#10 assert\u001b[0m\u001b[0;34m\u001b[0m\u001b[0;34m\u001b[0m\u001b[0;34m\u001b[0m\u001b[0m\n\u001b[0;32m----> 2\u001b[0;31m \u001b[0;32massert\u001b[0m \u001b[0;36m5\u001b[0m\u001b[0;34m>\u001b[0m\u001b[0;36m10\u001b[0m\u001b[0;34m\u001b[0m\u001b[0;34m\u001b[0m\u001b[0m\n\u001b[0m",
            "\u001b[0;31mAssertionError\u001b[0m: "
          ]
        }
      ]
    },
    {
      "cell_type": "code",
      "source": [
        "assert 5<10"
      ],
      "metadata": {
        "id": "VO5JTTpQp6kU"
      },
      "execution_count": 16,
      "outputs": []
    },
    {
      "cell_type": "code",
      "source": [
        "for i in range(1,15):\n",
        "  print(i)"
      ],
      "metadata": {
        "colab": {
          "base_uri": "https://localhost:8080/"
        },
        "id": "WTENd3-Dp_CK",
        "outputId": "a95586e0-de5a-4eea-8cf5-43aca3ac1ee1"
      },
      "execution_count": 17,
      "outputs": [
        {
          "output_type": "stream",
          "name": "stdout",
          "text": [
            "1\n",
            "2\n",
            "3\n",
            "4\n",
            "5\n",
            "6\n",
            "7\n",
            "8\n",
            "9\n",
            "10\n",
            "11\n",
            "12\n",
            "13\n",
            "14\n"
          ]
        }
      ]
    },
    {
      "cell_type": "code",
      "source": [
        "for i in range(1,15):\n",
        "  if i==12:\n",
        "    break\n",
        "  print(i)"
      ],
      "metadata": {
        "colab": {
          "base_uri": "https://localhost:8080/"
        },
        "id": "jBtA6b7vqRvP",
        "outputId": "8e1d6a06-824a-411d-9201-574e810966d1"
      },
      "execution_count": 21,
      "outputs": [
        {
          "output_type": "stream",
          "name": "stdout",
          "text": [
            "1\n",
            "2\n",
            "3\n",
            "4\n",
            "5\n",
            "6\n",
            "7\n",
            "8\n",
            "9\n",
            "10\n",
            "11\n"
          ]
        }
      ]
    },
    {
      "cell_type": "code",
      "source": [
        "for i in range(1,15):\n",
        "  if i==12:\n",
        "    continue\n",
        "  print(i)"
      ],
      "metadata": {
        "colab": {
          "base_uri": "https://localhost:8080/"
        },
        "id": "zRHiFNyPqbKL",
        "outputId": "b354db44-3817-45e3-bcf2-380f428d5cd8"
      },
      "execution_count": 22,
      "outputs": [
        {
          "output_type": "stream",
          "name": "stdout",
          "text": [
            "1\n",
            "2\n",
            "3\n",
            "4\n",
            "5\n",
            "6\n",
            "7\n",
            "8\n",
            "9\n",
            "10\n",
            "11\n",
            "13\n",
            "14\n"
          ]
        }
      ]
    },
    {
      "cell_type": "code",
      "source": [
        "#class\n",
        "\n",
        "class example:\n",
        "  def my_fun(parameters):\n",
        "    print(\"Func1 executing\")\n",
        "  def my_func2(parameters):\n",
        "    print(\"Func2 executing\")\n",
        "\n",
        "ob1= example()\n",
        "ob1.my_fun()\n",
        "ob1.my_func2()"
      ],
      "metadata": {
        "colab": {
          "base_uri": "https://localhost:8080/"
        },
        "id": "Kn6D1gw0rGYJ",
        "outputId": "3885c8c4-a4ee-4eff-dcc9-8a7ddf13e254"
      },
      "execution_count": 23,
      "outputs": [
        {
          "output_type": "stream",
          "name": "stdout",
          "text": [
            "Func1 executing\n",
            "Func2 executing\n"
          ]
        }
      ]
    },
    {
      "cell_type": "code",
      "source": [
        "#pass\n",
        "def my_new_func(parameters):\n",
        "  pass\n",
        "\n",
        "my_new_func(10)\n"
      ],
      "metadata": {
        "id": "uqj4U-xSsI1l"
      },
      "execution_count": 2,
      "outputs": []
    },
    {
      "cell_type": "code",
      "source": [
        "#del\n",
        "a=10\n",
        "print(a)"
      ],
      "metadata": {
        "colab": {
          "base_uri": "https://localhost:8080/"
        },
        "id": "r_3uQHxo56wK",
        "outputId": "9ca8d9e4-98a1-4055-d40b-6ef1f96f2766"
      },
      "execution_count": 3,
      "outputs": [
        {
          "output_type": "stream",
          "name": "stdout",
          "text": [
            "10\n"
          ]
        }
      ]
    },
    {
      "cell_type": "code",
      "source": [
        "del a\n",
        "print(a)"
      ],
      "metadata": {
        "colab": {
          "base_uri": "https://localhost:8080/",
          "height": 185
        },
        "id": "5WGG87kR6C33",
        "outputId": "63d17f4b-8904-4a1a-b327-864504a5be76"
      },
      "execution_count": 4,
      "outputs": [
        {
          "output_type": "error",
          "ename": "NameError",
          "evalue": "ignored",
          "traceback": [
            "\u001b[0;31m---------------------------------------------------------------------------\u001b[0m",
            "\u001b[0;31mNameError\u001b[0m                                 Traceback (most recent call last)",
            "\u001b[0;32m<ipython-input-4-c342333e421e>\u001b[0m in \u001b[0;36m<module>\u001b[0;34m\u001b[0m\n\u001b[1;32m      1\u001b[0m \u001b[0;32mdel\u001b[0m \u001b[0ma\u001b[0m\u001b[0;34m\u001b[0m\u001b[0;34m\u001b[0m\u001b[0m\n\u001b[0;32m----> 2\u001b[0;31m \u001b[0mprint\u001b[0m\u001b[0;34m(\u001b[0m\u001b[0ma\u001b[0m\u001b[0;34m)\u001b[0m\u001b[0;34m\u001b[0m\u001b[0;34m\u001b[0m\u001b[0m\n\u001b[0m",
            "\u001b[0;31mNameError\u001b[0m: name 'a' is not defined"
          ]
        }
      ]
    },
    {
      "cell_type": "code",
      "source": [
        "#if.. elif..else\n",
        "\n",
        "num=2\n",
        "if num==1:\n",
        "  print('One')\n",
        "elif num==2:\n",
        "  print('Two')\n",
        "else:\n",
        "  print('Three')"
      ],
      "metadata": {
        "colab": {
          "base_uri": "https://localhost:8080/"
        },
        "id": "C6YrxyO06G8N",
        "outputId": "bfe5e36c-73d3-4bb7-a335-ac1526fbd310"
      },
      "execution_count": 5,
      "outputs": [
        {
          "output_type": "stream",
          "name": "stdout",
          "text": [
            "Two\n"
          ]
        }
      ]
    },
    {
      "cell_type": "code",
      "source": [
        "#try raise catch finally\n",
        "try:\n",
        "  x=9\n",
        "  raise ZeroDivisionError\n",
        "except:\n",
        "  print(\"zero division not possible\")\n",
        "finally:\n",
        "  print(\"Execution successfull\")"
      ],
      "metadata": {
        "colab": {
          "base_uri": "https://localhost:8080/"
        },
        "id": "TrdCyPeu6kUe",
        "outputId": "8ea9875b-d6dc-4d67-85c2-0c13269e75aa"
      },
      "execution_count": 8,
      "outputs": [
        {
          "output_type": "stream",
          "name": "stdout",
          "text": [
            "zero division not possible\n",
            "Execution successfull\n"
          ]
        }
      ]
    },
    {
      "cell_type": "code",
      "source": [
        "for i in range(0,9,2):\n",
        "  print(i)\n"
      ],
      "metadata": {
        "colab": {
          "base_uri": "https://localhost:8080/"
        },
        "id": "mfFtuUnz7M8v",
        "outputId": "bce54233-0be7-472b-ba6e-04af8984bd62"
      },
      "execution_count": 9,
      "outputs": [
        {
          "output_type": "stream",
          "name": "stdout",
          "text": [
            "0\n",
            "2\n",
            "4\n",
            "6\n",
            "8\n"
          ]
        }
      ]
    },
    {
      "cell_type": "code",
      "source": [
        "#from\n",
        "\n",
        "import math\n",
        "\n",
        "from math import cos\n",
        "print(cos(10))"
      ],
      "metadata": {
        "colab": {
          "base_uri": "https://localhost:8080/"
        },
        "id": "B5fdZBmD7Wgf",
        "outputId": "28581612-d821-481e-e795-8a6c4271e965"
      },
      "execution_count": 11,
      "outputs": [
        {
          "output_type": "stream",
          "name": "stdout",
          "text": [
            "-0.8390715290764524\n"
          ]
        }
      ]
    },
    {
      "cell_type": "code",
      "source": [
        "#global var\n",
        "globalvar=20\n",
        "\n",
        "def read():\n",
        "  print('In read block',globalvar)\n",
        "def write1():\n",
        "  globalvar=10\n",
        "  print('In write1 block',globalvar)\n",
        "def write2():\n",
        "  global globalvar\n",
        "  globalvar=15\n",
        "  print('In write2 block update',globalvar)\n",
        "def write3():\n",
        "  globalvar=10\n",
        "  print('In write3 block',globalvar)\n",
        "\n",
        "read()\n",
        "write1()\n",
        "write2()\n",
        "write3()\n",
        "read()"
      ],
      "metadata": {
        "colab": {
          "base_uri": "https://localhost:8080/"
        },
        "id": "1HdJ00bT7laC",
        "outputId": "23bdf7bf-ead2-45a5-b9ee-fc73c1f6fecd"
      },
      "execution_count": 18,
      "outputs": [
        {
          "output_type": "stream",
          "name": "stdout",
          "text": [
            "In read block 20\n",
            "In write1 block 10\n",
            "In write2 block update 15\n",
            "In write3 block 10\n",
            "In read block 15\n"
          ]
        }
      ]
    },
    {
      "cell_type": "code",
      "source": [
        "#list\n",
        "a=[1,2,3,4]\n",
        "print(a)\n",
        "print(4 in a)\n",
        "print(5 not in a)"
      ],
      "metadata": {
        "colab": {
          "base_uri": "https://localhost:8080/"
        },
        "id": "2Ce8cZiv-U8n",
        "outputId": "3166be89-6754-4556-ef2d-13f546d3aa2a"
      },
      "execution_count": 19,
      "outputs": [
        {
          "output_type": "stream",
          "name": "stdout",
          "text": [
            "[1, 2, 3, 4]\n",
            "True\n",
            "True\n"
          ]
        }
      ]
    },
    {
      "cell_type": "code",
      "source": [
        "#lambda\n",
        "x=[1,2,3,4,5,6,7,8,9,10]\n",
        "a=lambda x:x*5\n",
        "\n",
        "for i in range(0,len(x)):\n",
        "  print(a(x[i]))\n"
      ],
      "metadata": {
        "colab": {
          "base_uri": "https://localhost:8080/"
        },
        "id": "7RAYXHRe-uBt",
        "outputId": "624f2122-e765-4603-b230-7c09c466eacc"
      },
      "execution_count": 27,
      "outputs": [
        {
          "output_type": "stream",
          "name": "stdout",
          "text": [
            "5\n",
            "10\n",
            "15\n",
            "20\n",
            "25\n",
            "30\n",
            "35\n",
            "40\n",
            "45\n",
            "50\n"
          ]
        }
      ]
    },
    {
      "cell_type": "code",
      "source": [
        "#lambda again\n",
        "a=[1,2,(5,10),20]\n",
        "\n",
        "my_lamb=lambda x:print(x)\n",
        "\n",
        "for i in range(0, len(a)):\n",
        "  my_lamb(a[i])"
      ],
      "metadata": {
        "colab": {
          "base_uri": "https://localhost:8080/"
        },
        "id": "xZ91qH41ANhP",
        "outputId": "b18c7d12-7d25-477f-bd9c-79903e79125e"
      },
      "execution_count": 28,
      "outputs": [
        {
          "output_type": "stream",
          "name": "stdout",
          "text": [
            "1\n",
            "2\n",
            "(5, 10)\n",
            "20\n"
          ]
        }
      ]
    },
    {
      "cell_type": "code",
      "source": [
        "#nonlocal\n",
        "\n",
        "def func():\n",
        "  a=20\n",
        "  print(a)\n",
        "  def inner():\n",
        "    nonlocal a\n",
        "    a=5\n",
        "    print(a)\n",
        "  inner()\n",
        "def outer():\n",
        "  print(a)\n",
        "\n",
        "func()\n",
        "outer()"
      ],
      "metadata": {
        "colab": {
          "base_uri": "https://localhost:8080/"
        },
        "id": "O9a5bNboAoyl",
        "outputId": "a0fc1940-4976-4b2c-f9a0-607036900f3b"
      },
      "execution_count": 33,
      "outputs": [
        {
          "output_type": "stream",
          "name": "stdout",
          "text": [
            "20\n",
            "5\n",
            "20\n"
          ]
        }
      ]
    },
    {
      "cell_type": "code",
      "source": [
        "def sumtwo(a,b):\n",
        "  return(a+b)\n",
        "sumtwo(2,5)"
      ],
      "metadata": {
        "colab": {
          "base_uri": "https://localhost:8080/"
        },
        "id": "spBdPVfXQTnn",
        "outputId": "e967ca5f-acbe-473a-adb7-d9c7d519af74"
      },
      "execution_count": 34,
      "outputs": [
        {
          "output_type": "execute_result",
          "data": {
            "text/plain": [
              "7"
            ]
          },
          "metadata": {},
          "execution_count": 34
        }
      ]
    },
    {
      "cell_type": "code",
      "source": [
        "#while\n",
        "\n",
        "i=10\n",
        "\n",
        "while(i!=0):\n",
        "  print(i)\n",
        "  i=i-1"
      ],
      "metadata": {
        "colab": {
          "base_uri": "https://localhost:8080/"
        },
        "id": "J1vQ9OfcQl6v",
        "outputId": "53e365a2-1c81-4029-bc53-acf101eb267c"
      },
      "execution_count": 35,
      "outputs": [
        {
          "output_type": "stream",
          "name": "stdout",
          "text": [
            "10\n",
            "9\n",
            "8\n",
            "7\n",
            "6\n",
            "5\n",
            "4\n",
            "3\n",
            "2\n",
            "1\n"
          ]
        }
      ]
    },
    {
      "cell_type": "code",
      "source": [
        "#with\n",
        "\n",
        "with open('example.txt','w') as my_file:\n",
        "  my_file.write('This is a text file. write operation execution. message1')\n"
      ],
      "metadata": {
        "id": "uQ7RfOzQQ3Dh"
      },
      "execution_count": 36,
      "outputs": []
    },
    {
      "cell_type": "code",
      "source": [
        "with open('example.txt','r') as my_file:\n",
        "  print(my_file.read())"
      ],
      "metadata": {
        "colab": {
          "base_uri": "https://localhost:8080/"
        },
        "id": "GfhYKqUbRY5p",
        "outputId": "faaa27d9-6637-4373-af1f-101704f8d6d7"
      },
      "execution_count": 38,
      "outputs": [
        {
          "output_type": "stream",
          "name": "stdout",
          "text": [
            "This is a text file. write operation execution. message1\n"
          ]
        }
      ]
    },
    {
      "cell_type": "code",
      "source": [
        "#yield\n",
        "\n",
        "def generator():\n",
        "  for i in range(1,10):\n",
        "    yield(i*i)\n",
        "\n",
        "g=generator()\n",
        "for i in g:\n",
        "  print(i)"
      ],
      "metadata": {
        "colab": {
          "base_uri": "https://localhost:8080/"
        },
        "id": "jm6nJnDXRwda",
        "outputId": "28a13e91-02f8-4a22-a696-eb1fd252561b"
      },
      "execution_count": 39,
      "outputs": [
        {
          "output_type": "stream",
          "name": "stdout",
          "text": [
            "1\n",
            "4\n",
            "9\n",
            "16\n",
            "25\n",
            "36\n",
            "49\n",
            "64\n",
            "81\n"
          ]
        }
      ]
    }
  ]
}