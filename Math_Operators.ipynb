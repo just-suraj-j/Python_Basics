{
  "nbformat": 4,
  "nbformat_minor": 0,
  "metadata": {
    "colab": {
      "name": " Math Operators.ipynb",
      "provenance": [],
      "authorship_tag": "ABX9TyNl1ndFNjjeovEU9Et0NYdu",
      "include_colab_link": true
    },
    "kernelspec": {
      "name": "python3",
      "display_name": "Python 3"
    },
    "language_info": {
      "name": "python"
    }
  },
  "cells": [
    {
      "cell_type": "markdown",
      "metadata": {
        "id": "view-in-github",
        "colab_type": "text"
      },
      "source": [
        "<a href=\"https://colab.research.google.com/github/just-suraj-j/Python_Basics/blob/main/Math_Operators.ipynb\" target=\"_parent\"><img src=\"https://colab.research.google.com/assets/colab-badge.svg\" alt=\"Open In Colab\"/></a>"
      ]
    },
    {
      "cell_type": "markdown",
      "source": [
        "###Math Operators\n",
        "\n",
        "EMOID DMSA\n",
        "\n",
        "\n",
        "> Indented block\n",
        "\n",
        "\n",
        "Exponent\n",
        "Modulus\n",
        "Integer Division\n",
        "\n",
        "Division\n",
        "Multiplication\n",
        "Subtraction\n",
        "Addition"
      ],
      "metadata": {
        "id": "8YBRUWrpGhMU"
      }
    },
    {
      "cell_type": "code",
      "source": [
        "def MathOpertaions(a,b,op):\n",
        "  if  op=='exp':\n",
        "    c=a**b\n",
        "    print(a,\"**\",b,\"=\",c)\n",
        "  elif op=='mod':\n",
        "    c=a%b\n",
        "    print(a,\"%\",b,\"=\",c)\n",
        "  elif op=='indiv':\n",
        "    c=a//b\n",
        "    print(a,\"//\",b,\"=\",c)\n",
        "  elif op=='div':\n",
        "    c=a/b\n",
        "    print(a,\"/\",b,\"=\",c)\n",
        "  elif op=='mul':\n",
        "    c=a*b\n",
        "    print(a,\"*\",b,\"=\",c)\n",
        "  elif op=='sub':\n",
        "    c=a-b\n",
        "    print(a,\"-\",b,\"=\",c)\n",
        "  elif op=='add':\n",
        "    c=a+b\n",
        "    print(a,\"+\",b,\"=\",c)\n",
        "  else:\n",
        "    print(\"Invalid Operation\")\n",
        "\n",
        "    "
      ],
      "metadata": {
        "id": "GhWm1I0CH4m8"
      },
      "execution_count": 10,
      "outputs": []
    },
    {
      "cell_type": "code",
      "source": [
        "MathOpertaions(100,3,'exp')"
      ],
      "metadata": {
        "colab": {
          "base_uri": "https://localhost:8080/"
        },
        "id": "pf5vVdDxHVd9",
        "outputId": "ec397864-d80e-409e-a8bf-0fe51a5c18f8"
      },
      "execution_count": 11,
      "outputs": [
        {
          "output_type": "stream",
          "name": "stdout",
          "text": [
            "100 ** 3 = 1000000\n"
          ]
        }
      ]
    },
    {
      "cell_type": "code",
      "source": [
        "MathOpertaions(35,3,'mod')"
      ],
      "metadata": {
        "colab": {
          "base_uri": "https://localhost:8080/"
        },
        "id": "VWkazBh0K_M7",
        "outputId": "5e2c66cd-a07d-46f4-f0bb-46ab8ccbac04"
      },
      "execution_count": 12,
      "outputs": [
        {
          "output_type": "stream",
          "name": "stdout",
          "text": [
            "35 % 3 = 2\n"
          ]
        }
      ]
    },
    {
      "cell_type": "code",
      "source": [
        "MathOpertaions(35,3,'indiv')"
      ],
      "metadata": {
        "colab": {
          "base_uri": "https://localhost:8080/"
        },
        "id": "kLHRr0DzLI9D",
        "outputId": "55b4e703-9e57-4947-d1c1-a3d4ebc63dbe"
      },
      "execution_count": 13,
      "outputs": [
        {
          "output_type": "stream",
          "name": "stdout",
          "text": [
            "35 // 3 = 11\n"
          ]
        }
      ]
    },
    {
      "cell_type": "code",
      "source": [
        "MathOpertaions(35,3,'div')"
      ],
      "metadata": {
        "colab": {
          "base_uri": "https://localhost:8080/"
        },
        "id": "pr5M5kN6LSnT",
        "outputId": "9e85e976-795a-4e90-cca2-a06d7a9019fc"
      },
      "execution_count": 14,
      "outputs": [
        {
          "output_type": "stream",
          "name": "stdout",
          "text": [
            "35 / 3 = 11.666666666666666\n"
          ]
        }
      ]
    },
    {
      "cell_type": "code",
      "source": [
        "MathOpertaions(5,3,'mul')"
      ],
      "metadata": {
        "colab": {
          "base_uri": "https://localhost:8080/"
        },
        "id": "LpIdnOxXLV17",
        "outputId": "26063393-ae94-4767-9e12-1c6e028a3506"
      },
      "execution_count": 16,
      "outputs": [
        {
          "output_type": "stream",
          "name": "stdout",
          "text": [
            "5 * 3 = 15\n"
          ]
        }
      ]
    },
    {
      "cell_type": "code",
      "source": [
        "MathOpertaions(14,3,'sub')"
      ],
      "metadata": {
        "colab": {
          "base_uri": "https://localhost:8080/"
        },
        "id": "BS6gjRi4Ldir",
        "outputId": "d0ef4264-530f-4cbb-8eb9-1b425026d9f8"
      },
      "execution_count": 18,
      "outputs": [
        {
          "output_type": "stream",
          "name": "stdout",
          "text": [
            "14 - 3 = 11\n"
          ]
        }
      ]
    },
    {
      "cell_type": "code",
      "source": [
        "MathOpertaions(5,3,'add')"
      ],
      "metadata": {
        "colab": {
          "base_uri": "https://localhost:8080/"
        },
        "id": "61hzMomRLnwb",
        "outputId": "a93bd180-4377-4a9d-b19d-7309225c7714"
      },
      "execution_count": 19,
      "outputs": [
        {
          "output_type": "stream",
          "name": "stdout",
          "text": [
            "5 + 3 = 8\n"
          ]
        }
      ]
    },
    {
      "cell_type": "code",
      "source": [
        "MathOpertaions(5,3,'OP')"
      ],
      "metadata": {
        "colab": {
          "base_uri": "https://localhost:8080/"
        },
        "id": "ikvdmvRdLtGL",
        "outputId": "360ecfb6-dcbe-4f3e-b84d-bc461284a89f"
      },
      "execution_count": 21,
      "outputs": [
        {
          "output_type": "stream",
          "name": "stdout",
          "text": [
            "Invalid Operation\n"
          ]
        }
      ]
    },
    {
      "cell_type": "markdown",
      "source": [
        ""
      ],
      "metadata": {
        "id": "GnuRkCMOGqMk"
      }
    }
  ]
}