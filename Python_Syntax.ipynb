{
  "nbformat": 4,
  "nbformat_minor": 0,
  "metadata": {
    "colab": {
      "provenance": [],
      "authorship_tag": "ABX9TyOXg3hCLwiq3ZRiDGFbjdvF",
      "include_colab_link": true
    },
    "kernelspec": {
      "name": "python3",
      "display_name": "Python 3"
    },
    "language_info": {
      "name": "python"
    }
  },
  "cells": [
    {
      "cell_type": "markdown",
      "metadata": {
        "id": "view-in-github",
        "colab_type": "text"
      },
      "source": [
        "<a href=\"https://colab.research.google.com/github/just-suraj-j/Python_Basics/blob/main/Python_Syntax.ipynb\" target=\"_parent\"><img src=\"https://colab.research.google.com/assets/colab-badge.svg\" alt=\"Open In Colab\"/></a>"
      ]
    },
    {
      "cell_type": "markdown",
      "source": [
        "## **Variables**\n",
        "\n",
        "Variables in Python are created by assigning a value to a name. \n",
        "The name of a variable can contain letters, numbers, and underscores, but it cannot start with a number."
      ],
      "metadata": {
        "id": "PLV8p8mJT0C0"
      }
    },
    {
      "cell_type": "code",
      "execution_count": 3,
      "metadata": {
        "colab": {
          "base_uri": "https://localhost:8080/"
        },
        "id": "YBuvUMkYTqlZ",
        "outputId": "934dbe0e-93a1-45c6-9587-8ee51789dccf"
      },
      "outputs": [
        {
          "output_type": "stream",
          "name": "stdout",
          "text": [
            "10 20.0 True Suraj [1, 2, 3] (1, 2, 3) {10: 1, 20.0: 2, True: 3}\n"
          ]
        }
      ],
      "source": [
        "a=10\n",
        "b=20.0\n",
        "c=True\n",
        "d=\"Suraj\"\n",
        "e=[1,2,3]\n",
        "f=(1,2,3)\n",
        "g={a:1,b:2,c:3}\n",
        "print(a,b,c,d,e,f,g)"
      ]
    },
    {
      "cell_type": "markdown",
      "source": [
        "## **Data Types**\n",
        "\n",
        "Python has several data types including integers, floats, strings, booleans, lists, tuples, and dictionaries. You can check the type of a variable using the type() function."
      ],
      "metadata": {
        "id": "M2ou801YU5ix"
      }
    },
    {
      "cell_type": "code",
      "source": [
        "print(type(a),type(b),type(c),type(d),type(e),type(f),type(g))"
      ],
      "metadata": {
        "colab": {
          "base_uri": "https://localhost:8080/"
        },
        "id": "aImBxeRRVFe_",
        "outputId": "6c2f46b0-b710-43ee-9bd7-8c74964b0a2f"
      },
      "execution_count": 5,
      "outputs": [
        {
          "output_type": "stream",
          "name": "stdout",
          "text": [
            "<class 'int'> <class 'float'> <class 'bool'> <class 'str'> <class 'list'> <class 'tuple'> <class 'dict'>\n"
          ]
        }
      ]
    },
    {
      "cell_type": "markdown",
      "source": [
        "## **Conditionals**\n",
        "\n",
        "Conditionals are used to execute different code based on different conditions. In Python, you can use the if, elif, and else statements."
      ],
      "metadata": {
        "id": "Uw5Bbl11Vm7p"
      }
    },
    {
      "cell_type": "code",
      "source": [
        "a=10\n",
        "if(a>10):\n",
        "  b=\"More than 10\" \n",
        "elif (a<10):\n",
        "  b=\"Less than 10\"\n",
        "else: b=\"is ten\"\n",
        "\n",
        "print(b)"
      ],
      "metadata": {
        "colab": {
          "base_uri": "https://localhost:8080/"
        },
        "id": "4qxLyS1JVmRi",
        "outputId": "16ea87e4-4346-4b2e-a0eb-2d7c758d445f"
      },
      "execution_count": 11,
      "outputs": [
        {
          "output_type": "stream",
          "name": "stdout",
          "text": [
            "is ten\n"
          ]
        }
      ]
    },
    {
      "cell_type": "markdown",
      "source": [
        "## **Loops**\n",
        "\n",
        "Loops are used to execute a block of code multiple times. Python has two types of loops: for and while."
      ],
      "metadata": {
        "id": "vgAviHyRW_8p"
      }
    },
    {
      "cell_type": "code",
      "source": [
        "#For Loop\n",
        "l=10\n",
        "for i in range(0,l):\n",
        "  print(i)\n",
        "\n",
        "#While Loop\n",
        "l=10\n",
        "i=4\n",
        "while i<l:\n",
        "  print(i)\n",
        "  l=l-1"
      ],
      "metadata": {
        "colab": {
          "base_uri": "https://localhost:8080/"
        },
        "id": "8Mwb6x8GXGWq",
        "outputId": "fa5ce25d-2808-42ea-f474-83e667c9161f"
      },
      "execution_count": 14,
      "outputs": [
        {
          "output_type": "stream",
          "name": "stdout",
          "text": [
            "0\n",
            "1\n",
            "2\n",
            "3\n",
            "4\n",
            "5\n",
            "6\n",
            "7\n",
            "8\n",
            "9\n",
            "4\n",
            "4\n",
            "4\n",
            "4\n",
            "4\n",
            "4\n"
          ]
        }
      ]
    },
    {
      "cell_type": "markdown",
      "source": [
        "## **Function**\n",
        "\n",
        "Functions are used to organize code into reusable blocks. You can define a function using the def keyword."
      ],
      "metadata": {
        "id": "AvAIHvBsYG30"
      }
    },
    {
      "cell_type": "code",
      "source": [
        "def sumnum(a,b):\n",
        "  c=a+b\n",
        "  print(c)\n",
        "\n",
        "sumnum(420,840)"
      ],
      "metadata": {
        "colab": {
          "base_uri": "https://localhost:8080/"
        },
        "id": "KyCAJ5PPYM85",
        "outputId": "fa489844-3d1e-469c-fdea-823ddebbfe0c"
      },
      "execution_count": 15,
      "outputs": [
        {
          "output_type": "stream",
          "name": "stdout",
          "text": [
            "1260\n"
          ]
        }
      ]
    },
    {
      "cell_type": "markdown",
      "source": [
        "## **Classes**\n",
        "\n",
        "Classes are used to create objects with their own properties and methods. You can define a class using the class keyword."
      ],
      "metadata": {
        "id": "gRmE7X39Zz_L"
      }
    },
    {
      "cell_type": "code",
      "source": [
        "class Fruit:\n",
        "  def __init__(self,seeds,color,taste):\n",
        "    self.seeds=seeds\n",
        "    self.color=color\n",
        "    self.taste=taste\n",
        "  \n",
        "  def printattr(self):\n",
        "    print(self.seeds, self.color,self.taste)\n",
        "\n",
        "apple=Fruit(\"small\",\"brown\",\"sour\")\n",
        "apple.printattr()"
      ],
      "metadata": {
        "colab": {
          "base_uri": "https://localhost:8080/"
        },
        "id": "ICNYB90hYcIz",
        "outputId": "8e3f2371-da5c-44d2-8343-14fbda5b9f09"
      },
      "execution_count": 17,
      "outputs": [
        {
          "output_type": "stream",
          "name": "stdout",
          "text": [
            "small brown sour\n"
          ]
        }
      ]
    },
    {
      "cell_type": "markdown",
      "source": [
        "## **Importing Modules**\n",
        "\n",
        "Python has a large number of built-in modules that provide additional functionality. You can import these modules into your code using the import keyword."
      ],
      "metadata": {
        "id": "9evduvtMZ_GV"
      }
    },
    {
      "cell_type": "code",
      "source": [
        "import pandas as pd\n",
        "from math import sqrt\n",
        "\n",
        "a=sqrt(169)\n",
        "print(a)"
      ],
      "metadata": {
        "colab": {
          "base_uri": "https://localhost:8080/"
        },
        "id": "JwS0DaETZ-w-",
        "outputId": "d8aee07b-38de-47f0-a9f3-79243fd0cd48"
      },
      "execution_count": 20,
      "outputs": [
        {
          "output_type": "stream",
          "name": "stdout",
          "text": [
            "13.0\n"
          ]
        }
      ]
    },
    {
      "cell_type": "markdown",
      "source": [
        "## **Lists**\n",
        "\n",
        "Lists are used to store a collection of items. You can add or remove items from a list using various built-in methods.\n"
      ],
      "metadata": {
        "id": "NlfAgb-taLyO"
      }
    },
    {
      "cell_type": "code",
      "source": [
        "myList=[1,2,3,4,5]\n",
        "myList.append(6)\n",
        "print(myList)\n",
        "myList.remove(4)\n",
        "print(myList)"
      ],
      "metadata": {
        "colab": {
          "base_uri": "https://localhost:8080/"
        },
        "id": "ev4aNE1wauGy",
        "outputId": "5a258559-d0fb-4986-9790-56bc6acff31d"
      },
      "execution_count": 21,
      "outputs": [
        {
          "output_type": "stream",
          "name": "stdout",
          "text": [
            "[1, 2, 3, 4, 5, 6]\n",
            "[1, 2, 3, 5, 6]\n"
          ]
        }
      ]
    },
    {
      "cell_type": "markdown",
      "source": [
        "## **Strings**\n",
        "\n",
        "Strings are used to store text. You can concatenate strings using the + operator and access individual characters using indexing.\n",
        "\n"
      ],
      "metadata": {
        "id": "eVY5_GFSbFf_"
      }
    },
    {
      "cell_type": "code",
      "source": [
        "fname=\"John\"\n",
        "lname=\"David\"\n",
        "funame=fname+\" \"+lname\n",
        "print(funame)"
      ],
      "metadata": {
        "colab": {
          "base_uri": "https://localhost:8080/"
        },
        "id": "Bw0Hk1rfbAj3",
        "outputId": "3b69cb21-0c2f-4466-e754-1bf55969fcdb"
      },
      "execution_count": 23,
      "outputs": [
        {
          "output_type": "stream",
          "name": "stdout",
          "text": [
            "John David\n"
          ]
        }
      ]
    },
    {
      "cell_type": "code",
      "source": [
        "print(fname[1])"
      ],
      "metadata": {
        "colab": {
          "base_uri": "https://localhost:8080/"
        },
        "id": "plYyJGhkbyg8",
        "outputId": "3d1c2886-0c1b-4cc6-928f-f227e35c5664"
      },
      "execution_count": 24,
      "outputs": [
        {
          "output_type": "stream",
          "name": "stdout",
          "text": [
            "o\n"
          ]
        }
      ]
    },
    {
      "cell_type": "markdown",
      "source": [
        "File I/O\n",
        "\n",
        "Python allows you to read and write to files using the built-in open() function."
      ],
      "metadata": {
        "id": "RLbEjNcEboaN"
      }
    },
    {
      "cell_type": "code",
      "source": [
        "file= open(\"random.txt\", \"w\")\n",
        "content = file.write(\"Hello Dear!\")\n",
        "file.close()\n",
        "\n",
        "file=open(\"random.txt\",\"r\")\n",
        "content=file.read()\n",
        "print(content)\n",
        "file.close()"
      ],
      "metadata": {
        "colab": {
          "base_uri": "https://localhost:8080/"
        },
        "id": "WTB7181lb5hS",
        "outputId": "0eab5c2c-27eb-471f-bb58-9ff86f261b2e"
      },
      "execution_count": 29,
      "outputs": [
        {
          "output_type": "stream",
          "name": "stdout",
          "text": [
            "Hello Dear!\n"
          ]
        }
      ]
    },
    {
      "cell_type": "markdown",
      "source": [
        "## **Exception Handling**\n",
        "\n",
        "Python allows you to handle errors using the try, except, and finally keywords."
      ],
      "metadata": {
        "id": "OfTULPTMcwmd"
      }
    },
    {
      "cell_type": "code",
      "source": [
        "try:\n",
        "  if(a<30):\n",
        "    print(a)\n",
        "except ArithmeticError:\n",
        "  print(\"Oh! my code is not working!\")\n",
        "finally: print(\"Hurrah! my code is working!\")"
      ],
      "metadata": {
        "colab": {
          "base_uri": "https://localhost:8080/"
        },
        "id": "bwiJZJt3cs9Z",
        "outputId": "b3e788ed-296a-4ed1-f528-5bdc1d5de1ef"
      },
      "execution_count": 32,
      "outputs": [
        {
          "output_type": "stream",
          "name": "stdout",
          "text": [
            "13.0\n",
            "Hurrah! my code is working!\n"
          ]
        }
      ]
    }
  ]
}